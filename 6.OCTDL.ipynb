{
 "cells": [
  {
   "cell_type": "code",
   "execution_count": null,
   "metadata": {},
   "outputs": [],
   "source": [
    "import torch\n",
    "from utils.CustomDataset import OCTDL\n",
    "from torch.utils.data import DataLoader\n",
    "import os\n",
    "import matplotlib.pyplot as plt\n",
    "import random\n",
    "import numpy as np\n",
    "\n",
    "DEVICE = torch.device(\"cuda\" if torch.cuda.is_available() else \"cpu\")\n",
    "\n",
    "def evaluation(net, loader, f1, f2, f3, DEVICE):\n",
    "    net.eval()\n",
    "    net.to(DEVICE)\n",
    "    accf= f1.to(DEVICE)\n",
    "    f1scoref = f2.to(DEVICE)\n",
    "    rmsef = f3.to(DEVICE)\n",
    "    acc = 0\n",
    "    f1score = 0\n",
    "    rmse = 0\n",
    "    length = len(loader)\n",
    "    for sample in loader:\n",
    "        X= torch.stack([s[\"x\"] for s in sample], 0)\n",
    "        Y= torch.stack([s[\"y\"] for s in sample], 0)\n",
    "        out = net(X.type(torch.float32).to(DEVICE)) \n",
    "        acc += accf(out.type(torch.float32).to(DEVICE), torch.nn.functional.one_hot(Y.type(torch.int64), 7).squeeze().to(DEVICE)).item()\n",
    "        f1score += f1scoref(out.type(torch.float32).to(DEVICE), torch.nn.functional.one_hot(Y.type(torch.int64), 7).squeeze().to(DEVICE)).item()\n",
    "        rmse += torch.sqrt(rmsef(out.type(torch.float32).to(DEVICE), torch.nn.functional.one_hot(Y.type(torch.int64), 7).squeeze().type(torch.float32).to(DEVICE))).item()\n",
    "    return {\"acc\": acc/length, \"f1score\":f1score/length, 'rmse': rmse/length}"
   ]
  },
  {
   "cell_type": "code",
   "execution_count": null,
   "metadata": {},
   "outputs": [],
   "source": [
    "from torchmetrics.classification import F1Score, Accuracy\n",
    "from torchmetrics.regression import MeanSquaredError\n",
    "from Network.Resnet import ResNet\n",
    "\n",
    "testset = OCTDL(\"Data/OCTDL/clients/test\")\n",
    "testloader = DataLoader(testset, 16, False, collate_fn= lambda x: x)\n",
    "net = ResNet().to(DEVICE)\n",
    "net.load_state_dict(torch.load(\"Models/CentralOCT/net.pt\"))\n",
    "\n",
    "evaluation(net, testloader, Accuracy(\"multiclass\", num_classes=7, average=\"macro\"), F1Score(\"multiclass\", num_classes=7, average=\"macro\"),\n",
    "            MeanSquaredError(), DEVICE)"
   ]
  },
  {
   "cell_type": "code",
   "execution_count": null,
   "metadata": {},
   "outputs": [],
   "source": [
    "from torchmetrics.classification import F1Score, Accuracy\n",
    "from torchmetrics.regression import MeanSquaredError\n",
    "from Network.Resnet import ResNet\n",
    "\n",
    "testset = OCTDL(\"Data/OCTDL/clients/test\")\n",
    "testloader = DataLoader(testset, 16, False, collate_fn= lambda x: x)\n",
    "net = ResNet().to(DEVICE)\n",
    "net.load_state_dict(torch.load(\"Models/FedAvgOCT/net.pt\"))\n",
    "\n",
    "evaluation(net, testloader, Accuracy(\"multiclass\", num_classes=7, average=\"macro\"), F1Score(\"multiclass\", num_classes=7, average=\"macro\"),\n",
    "            MeanSquaredError(), DEVICE)"
   ]
  },
  {
   "cell_type": "code",
   "execution_count": null,
   "metadata": {},
   "outputs": [],
   "source": [
    "from torchmetrics.classification import F1Score, Accuracy\n",
    "from torchmetrics.regression import MeanSquaredError\n",
    "from Network.Resnet import ResNet\n",
    "\n",
    "testset = OCTDL(\"Data/OCTDL/clients/test\")\n",
    "testloader = DataLoader(testset, 16, False, collate_fn= lambda x: x)\n",
    "net = ResNet().to(DEVICE)\n",
    "net.load_state_dict(torch.load(\"Models/FedPIDOCT/net.pt\"))\n",
    "\n",
    "evaluation(net, testloader, Accuracy(\"multiclass\", num_classes=7, average=\"macro\"), F1Score(\"multiclass\", num_classes=7, average=\"macro\"),\n",
    "            MeanSquaredError(), DEVICE)"
   ]
  },
  {
   "cell_type": "code",
   "execution_count": null,
   "metadata": {},
   "outputs": [],
   "source": [
    "from torchmetrics.classification import F1Score, Accuracy\n",
    "from torchmetrics.regression import MeanSquaredError\n",
    "from Network.Resnet import ResNet\n",
    "\n",
    "testset = OCTDL(\"Data/OCTDL/clients/test\")\n",
    "testloader = DataLoader(testset, 16, False, collate_fn= lambda x: x)\n",
    "net = ResNet().to(DEVICE)\n",
    "net.load_state_dict(torch.load(\"Models/FedLWROCT/net.pt\"))\n",
    "\n",
    "evaluation(net, testloader, Accuracy(\"multiclass\", num_classes=7, average=\"macro\"), F1Score(\"multiclass\", num_classes=7, average=\"macro\"),\n",
    "            MeanSquaredError(), DEVICE)"
   ]
  },
  {
   "cell_type": "code",
   "execution_count": null,
   "metadata": {},
   "outputs": [],
   "source": [
    "from torchmetrics.classification import F1Score, Accuracy\n",
    "from torchmetrics.regression import MeanSquaredError\n",
    "from Network.Resnet import ResNet\n",
    "\n",
    "testset = OCTDL(\"Data/OCTDL/clients/test\")\n",
    "testloader = DataLoader(testset, 16, False, collate_fn= lambda x: x)\n",
    "net = ResNet().to(DEVICE)\n",
    "net.load_state_dict(torch.load(\"Models/FedRefOCT/net.pt\"))\n",
    "\n",
    "evaluation(net, testloader, Accuracy(\"multiclass\", num_classes=7, average=\"macro\"), F1Score(\"multiclass\", num_classes=7, average=\"macro\"),\n",
    "            MeanSquaredError(), DEVICE)"
   ]
  },
  {
   "cell_type": "code",
   "execution_count": null,
   "metadata": {},
   "outputs": [],
   "source": [
    "from utils.CustomDataset import OCTDL\n",
    "test=OCTDL(\"Data/OCTDL/clients/1\")\n",
    "print(test.patients)\n",
    "test.label_weight"
   ]
  }
 ],
 "metadata": {
  "kernelspec": {
   "display_name": ".venv",
   "language": "python",
   "name": "python3"
  },
  "language_info": {
   "codemirror_mode": {
    "name": "ipython",
    "version": 3
   },
   "file_extension": ".py",
   "mimetype": "text/x-python",
   "name": "python",
   "nbconvert_exporter": "python",
   "pygments_lexer": "ipython3",
   "version": "3.12.3"
  }
 },
 "nbformat": 4,
 "nbformat_minor": 2
}
