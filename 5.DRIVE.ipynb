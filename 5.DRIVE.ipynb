{
 "cells": [
  {
   "cell_type": "code",
   "execution_count": null,
   "metadata": {},
   "outputs": [],
   "source": [
    "import deeplake\n",
    "from matplotlib import pyplot as plt\n",
    "import torch\n",
    "import segmentation_models_pytorch as smp\n",
    "from segmentation_models_pytorch.metrics import accuracy, specificity\n",
    "from Network.Unet import Custom2DUnet\n",
    "from torch.nn.functional import one_hot\n",
    "import numpy as np\n",
    "import random\n",
    "\n",
    "skip = False\n",
    "DEVICE = torch.device(\"cuda\" if torch.cuda.is_available() else \"cpu\")"
   ]
  },
  {
   "cell_type": "code",
   "execution_count": null,
   "metadata": {},
   "outputs": [],
   "source": [
    "dataset = deeplake.load(\"hub://activeloop/drive-test\")\n",
    "visualset = deeplake.load(\"hub://activeloop/drive-train\")\n",
    "testloader = torch.utils.data.DataLoader(dataset, 16, False, collate_fn=lambda x:x)\n",
    "dataset[0]"
   ]
  },
  {
   "cell_type": "code",
   "execution_count": null,
   "metadata": {},
   "outputs": [],
   "source": [
    "diceLoss = smp.losses.DiceLoss(\n",
    "   mode=\"binary\",          # For multi-class segmentation\n",
    "   classes=None,               # Compute the loss for all classes\n",
    "   log_loss=False,             # Do not use log version of Dice loss\n",
    "   from_logits=True,           # Model outputs are raw logits\n",
    "   smooth=1e-5,                # A small smoothing factor for stability\n",
    "   ignore_index=None,          # Don't ignore any classes\n",
    "   eps=1e-7                    # Epsilon for numerical stability\n",
    ")\n",
    "class Hausdolf95(torch.nn.Module):\n",
    "    def __init__(self):\n",
    "        super(Hausdolf95, self).__init__()\n",
    "        self.distancef = torch.nn.PairwiseDistance()\n",
    "    def distance(self, x, y):\n",
    "        return self.distancef(x, y)\n",
    "        \n",
    "    def forward(self, x, y):\n",
    "        maximum_d=torch.max(self.distance(x, y))\n",
    "        return maximum_d\n",
    "hausdolf95 = Hausdolf95()\n",
    "jaccardf = smp.losses.JaccardLoss(\n",
    "   mode=\"binary\",          # For multi-class segmentation\n",
    "   classes=None,               # Compute the loss for all classes\n",
    "   log_loss=False,             # Do not use log version of Dice loss\n",
    "   from_logits=True,           # Model outputs are raw logits\n",
    "   smooth=1e-5,                # A small smoothing factor for stability          \n",
    "   eps=1e-7\n",
    ")\n",
    "def evaluation(net, loader, diceLoss, HF95, jaccard,DEVICE):\n",
    "    net.eval()\n",
    "    net.to(DEVICE)\n",
    "    dicef= diceLoss.to(DEVICE)\n",
    "    hf95f = HF95.to(DEVICE)\n",
    "    jaccardf = jaccard.to(DEVICE)\n",
    "    dice = 0\n",
    "    hf95 = 0\n",
    "    jacc = 0\n",
    "    acc = 0\n",
    "    spec = 0\n",
    "    length = len(loader)\n",
    "    for sample in loader:\n",
    "        X= torch.stack([torch.Tensor(s[\"rgb_images\"].numpy()).permute(-1,0,1) for s in sample], 0)\n",
    "        Y= torch.stack([torch.where(torch.from_numpy(s['masks'].numpy()).squeeze()[...,0], 0.0, 1.0).type(torch.int64) for s in sample], 0)\n",
    "        out = net(X.type(torch.float32).to(DEVICE))\n",
    "        jacc += (1-jaccardf(out.squeeze(), Y.squeeze().type(torch.int64).to(DEVICE))).item()\n",
    "        dice += (1-dicef(out.squeeze(), Y.squeeze().type(torch.int64).to(DEVICE))).item()\n",
    "        hf95 += hf95f(out.squeeze(), Y.type(torch.float32).to(DEVICE)).item()\n",
    "        out = (out>0.15).type(torch.int32).to(DEVICE)\n",
    "        acc += accuracy(out.squeeze()*Y.to(DEVICE), (1-out).squeeze()*Y.to(DEVICE),out.squeeze()*(1-Y).to(DEVICE),(1-out).squeeze()*(1-Y).to(DEVICE)).mean().item()\n",
    "        spec += specificity(out.squeeze()*Y.to(DEVICE), (1-out).squeeze()*Y.to(DEVICE), out.squeeze()*(1-Y).to(DEVICE), (1-out).squeeze()*(1-Y).to(DEVICE)).mean().item()\n",
    "    return {\"dice\": dice/length, \"hf95\":hf95/length, 'jaccard': jacc/length, 'accuracy': acc/length, \"specificity\": spec/length}"
   ]
  },
  {
   "cell_type": "code",
   "execution_count": null,
   "metadata": {},
   "outputs": [],
   "source": [
    "if not skip:\n",
    "    net = Custom2DUnet(3, 1, True, 4, \"cr\", num_groups=4)\n",
    "    net.load_state_dict(torch.load('./Models/CentralDRIVE/net.pt'))\n",
    "    net.float()\n",
    "    net.to(DEVICE)\n",
    "    print(\"model is ready\")\n",
    "    print(evaluation(net, testloader, diceLoss, hausdolf95, jaccardf, DEVICE))"
   ]
  },
  {
   "cell_type": "code",
   "execution_count": null,
   "metadata": {},
   "outputs": [],
   "source": [
    "if not skip:\n",
    "    net = Custom2DUnet(3, 1, True, 4, \"cr\", num_groups=4)\n",
    "    net.load_state_dict(torch.load('./Models/FedAvgDRIVE/net.pt'))\n",
    "    net.float()\n",
    "    net.to(DEVICE)\n",
    "    print(\"model is ready\")\n",
    "    print(evaluation(net, testloader, diceLoss, hausdolf95, jaccardf, DEVICE))"
   ]
  },
  {
   "cell_type": "code",
   "execution_count": null,
   "metadata": {},
   "outputs": [],
   "source": [
    "if not skip:\n",
    "    net = Custom2DUnet(3, 1, True, 4, \"cr\", num_groups=4)\n",
    "    net.load_state_dict(torch.load('./Models/FedPIDDRIVE/net.pt'))\n",
    "    net.float()\n",
    "    net.to(DEVICE)\n",
    "    print(\"model is ready\")\n",
    "    print(evaluation(net, testloader, diceLoss, hausdolf95, jaccardf, DEVICE))"
   ]
  },
  {
   "cell_type": "code",
   "execution_count": null,
   "metadata": {},
   "outputs": [],
   "source": [
    "if not skip:\n",
    "    net = Custom2DUnet(3, 1, True, 4, \"cr\", num_groups=4)\n",
    "    net.load_state_dict(torch.load('./Models/FedLWRDRIVE/net.pt'))\n",
    "    net.float()\n",
    "    net.to(DEVICE)\n",
    "    print(\"model is ready\")\n",
    "    print(evaluation(net, testloader, diceLoss, hausdolf95, jaccardf, DEVICE))"
   ]
  },
  {
   "cell_type": "code",
   "execution_count": null,
   "metadata": {},
   "outputs": [],
   "source": [
    "if not skip:\n",
    "    net = Custom2DUnet(3, 1, True, 4, \"cr\", num_groups=4)\n",
    "    net.load_state_dict(torch.load('./Models/FedRefDRIVE/net.pt'))\n",
    "    net.float()\n",
    "    net.to(DEVICE)\n",
    "    print(\"model is ready\")\n",
    "    print(evaluation(net, testloader, diceLoss, hausdolf95, jaccardf, DEVICE))"
   ]
  },
  {
   "cell_type": "code",
   "execution_count": null,
   "metadata": {},
   "outputs": [],
   "source": [
    "def minmaxNorm(tensor):\n",
    "    return (tensor-tensor.min())/(tensor.max()-tensor.min())\n",
    "\n",
    "def visualization(img, label, pred, threshold=0.7):\n",
    "    fig, ax =plt.subplots(1,3)\n",
    "    ax[0].imshow(img.squeeze())\n",
    "    ax[1].imshow((label.squeeze()).astype(\"uint8\"), cmap=\"gray\")\n",
    "    print(pred.max())\n",
    "    ax[2].imshow((minmaxNorm(torch.clip(pred, 0))>threshold).squeeze().cpu().detach().numpy(), cmap=\"gray\")\n",
    "    ax[0].set_axis_off()\n",
    "    ax[1].set_axis_off()\n",
    "    ax[2].set_axis_off()\n",
    "    fig.tight_layout()\n",
    "    fig.show()"
   ]
  },
  {
   "cell_type": "code",
   "execution_count": null,
   "metadata": {},
   "outputs": [],
   "source": [
    "indx=7"
   ]
  },
  {
   "cell_type": "code",
   "execution_count": null,
   "metadata": {},
   "outputs": [],
   "source": [
    "net = Custom2DUnet(3, 1, True, 4, \"cr\", num_groups=4)\n",
    "net.load_state_dict(torch.load('./Models/CentralDRIVE/net.pt'))\n",
    "net.float()\n",
    "net.to(DEVICE)\n",
    "print(\"model is ready\")\n",
    "img = visualset[indx][\"rgb_images\"].numpy()\n",
    "label= np.where(visualset[indx]['manual_masks/mask'].numpy(), 0.0,1.0)[...,0].squeeze()\n",
    "pred = net(torch.Tensor(img).permute(-1,0,1).unsqueeze(0).to(DEVICE))\n",
    "visualization(img,label, pred, 0.55)"
   ]
  },
  {
   "cell_type": "code",
   "execution_count": null,
   "metadata": {},
   "outputs": [],
   "source": [
    "net = Custom2DUnet(3, 1, True, 4, \"cr\", num_groups=4)\n",
    "net.load_state_dict(torch.load('./Models/FedAvgDRIVE/net.pt'))\n",
    "net.float()\n",
    "net.to(DEVICE)\n",
    "print(\"model is ready\")\n",
    "img = visualset[indx][\"rgb_images\"].numpy()\n",
    "label= np.where(visualset[indx]['manual_masks/mask'].numpy(), 0.0,1.0)[...,0].squeeze()\n",
    "pred = net(torch.Tensor(img).permute(-1,0,1).unsqueeze(0).to(DEVICE))\n",
    "visualization(img,label, pred, 0.15)"
   ]
  },
  {
   "cell_type": "code",
   "execution_count": null,
   "metadata": {},
   "outputs": [],
   "source": [
    "net = Custom2DUnet(3, 1, True, 4, \"cr\", num_groups=4)\n",
    "net.load_state_dict(torch.load('./Models/FedPIDDRIVE/net.pt'))\n",
    "net.float()\n",
    "net.to(DEVICE)\n",
    "print(\"model is ready\")\n",
    "img = visualset[indx][\"rgb_images\"].numpy()\n",
    "label= np.where(visualset[indx]['manual_masks/mask'].numpy(), 0.0,1.0)[...,0].squeeze()\n",
    "pred = net(torch.Tensor(img).permute(-1,0,1).unsqueeze(0).to(DEVICE))\n",
    "visualization(img,label, pred, 1)"
   ]
  },
  {
   "cell_type": "code",
   "execution_count": null,
   "metadata": {},
   "outputs": [],
   "source": [
    "net = Custom2DUnet(3, 1, True, 4, \"cr\", num_groups=4)\n",
    "net.load_state_dict(torch.load('./Models/FedLWRDRIVE/net.pt'))\n",
    "net.float()\n",
    "net.to(DEVICE)\n",
    "print(\"model is ready\")\n",
    "img = visualset[indx][\"rgb_images\"].numpy()\n",
    "label= np.where(visualset[indx]['manual_masks/mask'].numpy(), 0.0,1.0)[...,0].squeeze()\n",
    "pred = net(torch.Tensor(img).permute(-1,0,1).unsqueeze(0).to(DEVICE))\n",
    "visualization(img,label, pred, 0.15)"
   ]
  },
  {
   "cell_type": "code",
   "execution_count": null,
   "metadata": {},
   "outputs": [],
   "source": [
    "net = Custom2DUnet(3, 1, True, 4, \"cr\", num_groups=4)\n",
    "net.load_state_dict(torch.load('./Models/FedRefDRIVE/net.pt'))\n",
    "net.float()\n",
    "net.to(DEVICE)\n",
    "print(\"model is ready\")\n",
    "img = visualset[indx][\"rgb_images\"].numpy()\n",
    "label= np.where(visualset[indx]['manual_masks/mask'].numpy(), 0.0,1.0)[...,0].squeeze()\n",
    "pred = net(torch.Tensor(img).permute(-1,0,1).unsqueeze(0).to(DEVICE))\n",
    "visualization(img,label, pred, 0.15)"
   ]
  },
  {
   "cell_type": "code",
   "execution_count": null,
   "metadata": {},
   "outputs": [],
   "source": [
    "import pandas as pd\n",
    "import matplotlib.pyplot as plt\n",
    " \n",
    "fedavgframe = pd.read_csv('Result/fedavg/FedAvg_drive.csv')\n",
    "fedpidframe = pd.read_csv('Result/fedpid/FedPID_drive.csv')\n",
    "fedlwrframe = pd.read_csv('Result/fedlwr/FedLWR_drive.csv')\n",
    "fedrefframe = pd.read_csv(\"Result/fedref/FedRef_drive.csv\")\n",
    "\n",
    "length = min([len(fedavgframe), len(fedpidframe), len(fedlwrframe), len(fedrefframe)])\n",
    "plt.plot(fedavgframe['loss'].to_numpy()[:length], color=(0.5,0,1), label= \"Fed-Avg\", marker= \"\", linestyle=\"-\")\n",
    "plt.plot(fedlwrframe['loss'].to_numpy()[:length], color=(0.5,1,0.9), label= \"Fed-LWR\", marker= \"\", linestyle=\"--\")\n",
    "plt.plot(fedpidframe['loss'].to_numpy()[:length], color=(0.5,1,0), label= \"Fed-PID\", marker= \"\", linestyle=\"-\")\n",
    "plt.plot(fedrefframe['loss'].to_numpy()[:length], color=(1,0,0), label= \"Fed-Ref\", marker= \"\", linestyle=\"--\")\n",
    "plt.grid(True, axis=\"y\", alpha=0.5, linestyle=\"--\")\n",
    "plt.legend(fontsize=16)\n",
    "# plt.ylim(top=0.84)\n",
    "plt.xlabel(\"round\".upper())\n",
    "# plt.ylabel(\"Loss\")"
   ]
  },
  {
   "cell_type": "code",
   "execution_count": null,
   "metadata": {},
   "outputs": [],
   "source": [
    "import pandas as pd\n",
    "import matplotlib.pyplot as plt\n",
    " \n",
    "fedavgframe = pd.read_csv('Result/fedavg/FedAvg_drive.csv')\n",
    "fedpidframe = pd.read_csv('Result/fedpid/FedPID_drive.csv')\n",
    "fedlwrframe = pd.read_csv('Result/fedlwr/FedLWR_drive.csv')\n",
    "fedrefframe = pd.read_csv(\"Result/fedref/FedRef_drive.csv\")\n",
    "length = min([len(fedavgframe), len(fedpidframe), len(fedlwrframe), len(fedrefframe)])\n",
    "plt.plot(fedavgframe['mDice'].to_numpy()[:length], color=(0.5,0,1), label= \"Fed-Avg\", marker= \"\", linestyle=\"--\")\n",
    "plt.plot(fedlwrframe['mDice'].to_numpy()[:length], color=(0.5,1,0.9), label= \"Fed-LWR\", marker= \"\", linestyle=\"-.\")\n",
    "plt.plot(fedpidframe['mDice'].to_numpy()[:length], color=(0.5,1,0), label= \"Fed-PID\", marker= \"\", linestyle=\"-.\")\n",
    "plt.plot(fedrefframe['mDice'].to_numpy()[:length], color=(1,0,0), label= \"Fed-Ref\", marker= \"\", linestyle=\"--\")\n",
    "plt.grid(True, axis=\"y\", alpha=0.5, linestyle=\"--\")\n",
    "plt.legend(fontsize=16)\n",
    "plt.xlabel(\"round\".upper())\n",
    "# plt.ylabel(\"DiceScore\")"
   ]
  },
  {
   "cell_type": "code",
   "execution_count": null,
   "metadata": {},
   "outputs": [],
   "source": [
    "import pandas as pd\n",
    "import matplotlib.pyplot as plt\n",
    " \n",
    "fedavgframe = pd.read_csv('Result/fedavg/FedAvg_drive.csv')\n",
    "fedpidframe = pd.read_csv('Result/fedpid/FedPID_drive.csv')\n",
    "fedlwrframe = pd.read_csv('Result/fedlwr/FedLWR_drive.csv')\n",
    "fedrefframe = pd.read_csv(\"Result/fedref/FedRef_drive.csv\")\n",
    "length = min([len(fedavgframe), len(fedpidframe), len(fedlwrframe), len(fedrefframe)])\n",
    "plt.plot(fedavgframe['mHF95'].to_numpy()[:length], color=(0.5,0,1), label= \"Fed-Avg\", marker= \".\", linestyle=\"--\")\n",
    "plt.plot(fedlwrframe['mHF95'].to_numpy()[:length], color=(0.5,1,0.9), label= \"Fed-LWR\", marker= \".\", linestyle=\"--\")\n",
    "plt.plot(fedpidframe['mHF95'].to_numpy()[:length], color=(0.5,1,0), label= \"Fed-PID\", marker= \".\", linestyle=\"--\")\n",
    "plt.plot(fedrefframe['mHF95'].to_numpy()[:length], color=(1,0,0), label= \"Fed-Ref\", marker= \"v\", linestyle=\"--\")\n",
    "plt.grid(True, axis=\"y\", alpha=0.5, linestyle=\"--\")\n",
    "plt.legend(fontsize=16)\n",
    "plt.xlabel(\"round\".upper())\n",
    "# plt.ylabel(\"Housdorff Distance\")"
   ]
  }
 ],
 "metadata": {
  "kernelspec": {
   "display_name": ".venv",
   "language": "python",
   "name": "python3"
  },
  "language_info": {
   "codemirror_mode": {
    "name": "ipython",
    "version": 3
   },
   "file_extension": ".py",
   "mimetype": "text/x-python",
   "name": "python",
   "nbconvert_exporter": "python",
   "pygments_lexer": "ipython3",
   "version": "3.12.3"
  }
 },
 "nbformat": 4,
 "nbformat_minor": 2
}
